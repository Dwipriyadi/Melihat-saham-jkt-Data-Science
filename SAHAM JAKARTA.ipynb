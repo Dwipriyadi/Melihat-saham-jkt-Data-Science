{
 "cells": [
  {
   "cell_type": "code",
   "execution_count": 11,
   "metadata": {},
   "outputs": [],
   "source": [
    "import pandas as pd\n",
    "import matplotlib.pyplot as plt\n",
    "import math\n",
    "import datetime\n",
    "import pandas_datareader.data as web"
   ]
  },
  {
   "cell_type": "code",
   "execution_count": 54,
   "metadata": {},
   "outputs": [],
   "source": [
    "start = datetime.datetime(2020,1,1)\n",
    "end = datetime.datetime(2021,3,1)"
   ]
  },
  {
   "cell_type": "code",
   "execution_count": 55,
   "metadata": {},
   "outputs": [],
   "source": [
    "df = web.DataReader(\"INKP.JK\" ,'yahoo' ,start=start ,end=end)"
   ]
  },
  {
   "cell_type": "code",
   "execution_count": 56,
   "metadata": {
    "scrolled": false
   },
   "outputs": [
    {
     "data": {
      "text/html": [
       "<div>\n",
       "<style scoped>\n",
       "    .dataframe tbody tr th:only-of-type {\n",
       "        vertical-align: middle;\n",
       "    }\n",
       "\n",
       "    .dataframe tbody tr th {\n",
       "        vertical-align: top;\n",
       "    }\n",
       "\n",
       "    .dataframe thead th {\n",
       "        text-align: right;\n",
       "    }\n",
       "</style>\n",
       "<table border=\"1\" class=\"dataframe\">\n",
       "  <thead>\n",
       "    <tr style=\"text-align: right;\">\n",
       "      <th></th>\n",
       "      <th>High</th>\n",
       "      <th>Low</th>\n",
       "      <th>Open</th>\n",
       "      <th>Close</th>\n",
       "      <th>Volume</th>\n",
       "      <th>Adj Close</th>\n",
       "    </tr>\n",
       "    <tr>\n",
       "      <th>Date</th>\n",
       "      <th></th>\n",
       "      <th></th>\n",
       "      <th></th>\n",
       "      <th></th>\n",
       "      <th></th>\n",
       "      <th></th>\n",
       "    </tr>\n",
       "  </thead>\n",
       "  <tbody>\n",
       "    <tr>\n",
       "      <td>2020-01-02</td>\n",
       "      <td>7750.0</td>\n",
       "      <td>7600.0</td>\n",
       "      <td>7725.0</td>\n",
       "      <td>7625.0</td>\n",
       "      <td>1495800.0</td>\n",
       "      <td>7583.559570</td>\n",
       "    </tr>\n",
       "    <tr>\n",
       "      <td>2020-01-03</td>\n",
       "      <td>8125.0</td>\n",
       "      <td>7600.0</td>\n",
       "      <td>7600.0</td>\n",
       "      <td>8100.0</td>\n",
       "      <td>6037700.0</td>\n",
       "      <td>8055.978027</td>\n",
       "    </tr>\n",
       "    <tr>\n",
       "      <td>2020-01-06</td>\n",
       "      <td>8100.0</td>\n",
       "      <td>7900.0</td>\n",
       "      <td>8025.0</td>\n",
       "      <td>8000.0</td>\n",
       "      <td>4748600.0</td>\n",
       "      <td>7956.521484</td>\n",
       "    </tr>\n",
       "    <tr>\n",
       "      <td>2020-01-07</td>\n",
       "      <td>8125.0</td>\n",
       "      <td>7850.0</td>\n",
       "      <td>8000.0</td>\n",
       "      <td>8000.0</td>\n",
       "      <td>2557900.0</td>\n",
       "      <td>7956.521484</td>\n",
       "    </tr>\n",
       "    <tr>\n",
       "      <td>2020-01-08</td>\n",
       "      <td>8075.0</td>\n",
       "      <td>7825.0</td>\n",
       "      <td>7900.0</td>\n",
       "      <td>7975.0</td>\n",
       "      <td>3097400.0</td>\n",
       "      <td>7931.657227</td>\n",
       "    </tr>\n",
       "  </tbody>\n",
       "</table>\n",
       "</div>"
      ],
      "text/plain": [
       "              High     Low    Open   Close     Volume    Adj Close\n",
       "Date                                                              \n",
       "2020-01-02  7750.0  7600.0  7725.0  7625.0  1495800.0  7583.559570\n",
       "2020-01-03  8125.0  7600.0  7600.0  8100.0  6037700.0  8055.978027\n",
       "2020-01-06  8100.0  7900.0  8025.0  8000.0  4748600.0  7956.521484\n",
       "2020-01-07  8125.0  7850.0  8000.0  8000.0  2557900.0  7956.521484\n",
       "2020-01-08  8075.0  7825.0  7900.0  7975.0  3097400.0  7931.657227"
      ]
     },
     "execution_count": 56,
     "metadata": {},
     "output_type": "execute_result"
    }
   ],
   "source": [
    "df.head()"
   ]
  },
  {
   "cell_type": "code",
   "execution_count": 57,
   "metadata": {},
   "outputs": [
    {
     "data": {
      "text/plain": [
       "282"
      ]
     },
     "execution_count": 57,
     "metadata": {},
     "output_type": "execute_result"
    }
   ],
   "source": [
    "len(df)"
   ]
  },
  {
   "cell_type": "code",
   "execution_count": 58,
   "metadata": {},
   "outputs": [
    {
     "data": {
      "text/plain": [
       "[<matplotlib.lines.Line2D at 0xace6f08>]"
      ]
     },
     "execution_count": 58,
     "metadata": {},
     "output_type": "execute_result"
    },
    {
     "data": {
      "image/png": "[encoded data removed]",
      "text/plain": [
       "<Figure size 432x288 with 1 Axes>"
      ]
     },
     "metadata": {
      "needs_background": "light"
     },
     "output_type": "display_data"
    }
   ],
   "source": [
    "plt.plot(df['Adj Close'])"
   ]
  },
  {
   "cell_type": "code",
   "execution_count": 59,
   "metadata": {},
   "outputs": [],
   "source": [
    "close_px = df['Adj Close']\n",
    "mavg = close_px.rolling(window=30).mean()\n",
    "mavg2 = close_px.rolling(window=100,center=True).mean()"
   ]
  },
  {
   "cell_type": "code",
   "execution_count": 60,
   "metadata": {},
   "outputs": [
    {
     "data": {
      "text/plain": [
       "[<matplotlib.lines.Line2D at 0xab3c748>]"
      ]
     },
     "execution_count": 60,
     "metadata": {},
     "output_type": "execute_result"
    },
    {
     "data": {
      "image/png": "[encoded data removed]",
      "text/plain": [
       "<Figure size 432x288 with 1 Axes>"
      ]
     },
     "metadata": {
      "needs_background": "light"
     },
     "output_type": "display_data"
    }
   ],
   "source": [
    "plt.plot(close_px)\n",
    "plt.plot(mavg)\n",
    "plt.plot(mavg2)"
   ]
  },
  {
   "cell_type": "code",
   "execution_count": 61,
   "metadata": {},
   "outputs": [
    {
     "data": {
      "text/plain": [
       "[<matplotlib.lines.Line2D at 0x964fe08>]"
      ]
     },
     "execution_count": 61,
     "metadata": {},
     "output_type": "execute_result"
    },
    {
     "data": {
      "image/png": "[encoded data removed]",
      "text/plain": [
       "<Figure size 432x288 with 1 Axes>"
      ]
     },
     "metadata": {
      "needs_background": "light"
     },
     "output_type": "display_data"
    }
   ],
   "source": [
    "rets = close_px / close_px.shift(1) - 1\n",
    "plt.plot(rets)"
   ]
  },
  {
   "cell_type": "code",
   "execution_count": 85,
   "metadata": {},
   "outputs": [],
   "source": [
    "#komparasi hubungan antar saham\n",
    "dfcomp = web.DataReader (['AALI.JK','BBCA.JK','AUTO.JK','BBRI.JK',\n",
    "                          'KLBF.JK'],'yahoo',start=start ,end=end)['Adj Close']"
   ]
  },
  {
   "cell_type": "code",
   "execution_count": 86,
   "metadata": {},
   "outputs": [
    {
     "data": {
      "text/html": [
       "<div>\n",
       "<style scoped>\n",
       "    .dataframe tbody tr th:only-of-type {\n",
       "        vertical-align: middle;\n",
       "    }\n",
       "\n",
       "    .dataframe tbody tr th {\n",
       "        vertical-align: top;\n",
       "    }\n",
       "\n",
       "    .dataframe thead th {\n",
       "        text-align: right;\n",
       "    }\n",
       "</style>\n",
       "<table border=\"1\" class=\"dataframe\">\n",
       "  <thead>\n",
       "    <tr style=\"text-align: right;\">\n",
       "      <th>Symbols</th>\n",
       "      <th>AALI.JK</th>\n",
       "      <th>BBCA.JK</th>\n",
       "      <th>AUTO.JK</th>\n",
       "      <th>BBRI.JK</th>\n",
       "      <th>KLBF.JK</th>\n",
       "    </tr>\n",
       "    <tr>\n",
       "      <th>Date</th>\n",
       "      <th></th>\n",
       "      <th></th>\n",
       "      <th></th>\n",
       "      <th></th>\n",
       "      <th></th>\n",
       "    </tr>\n",
       "  </thead>\n",
       "  <tbody>\n",
       "    <tr>\n",
       "      <td>2020-01-02</td>\n",
       "      <td>13888.172852</td>\n",
       "      <td>32782.265625</td>\n",
       "      <td>1240.652222</td>\n",
       "      <td>4244.425781</td>\n",
       "      <td>1585.652222</td>\n",
       "    </tr>\n",
       "    <tr>\n",
       "      <td>2020-01-03</td>\n",
       "      <td>13962.441406</td>\n",
       "      <td>33321.285156</td>\n",
       "      <td>1216.793457</td>\n",
       "      <td>4254.050293</td>\n",
       "      <td>1605.288818</td>\n",
       "    </tr>\n",
       "    <tr>\n",
       "      <td>2020-01-06</td>\n",
       "      <td>13368.294922</td>\n",
       "      <td>33002.773438</td>\n",
       "      <td>1202.478271</td>\n",
       "      <td>4205.927734</td>\n",
       "      <td>1610.197998</td>\n",
       "    </tr>\n",
       "    <tr>\n",
       "      <td>2020-01-07</td>\n",
       "      <td>13269.270508</td>\n",
       "      <td>33027.273438</td>\n",
       "      <td>1197.706543</td>\n",
       "      <td>4234.801270</td>\n",
       "      <td>1605.288818</td>\n",
       "    </tr>\n",
       "    <tr>\n",
       "      <td>2020-01-08</td>\n",
       "      <td>13195.001953</td>\n",
       "      <td>32733.261719</td>\n",
       "      <td>1183.391357</td>\n",
       "      <td>4215.552246</td>\n",
       "      <td>1556.197510</td>\n",
       "    </tr>\n",
       "  </tbody>\n",
       "</table>\n",
       "</div>"
      ],
      "text/plain": [
       "Symbols          AALI.JK       BBCA.JK      AUTO.JK      BBRI.JK      KLBF.JK\n",
       "Date                                                                         \n",
       "2020-01-02  13888.172852  32782.265625  1240.652222  4244.425781  1585.652222\n",
       "2020-01-03  13962.441406  33321.285156  1216.793457  4254.050293  1605.288818\n",
       "2020-01-06  13368.294922  33002.773438  1202.478271  4205.927734  1610.197998\n",
       "2020-01-07  13269.270508  33027.273438  1197.706543  4234.801270  1605.288818\n",
       "2020-01-08  13195.001953  32733.261719  1183.391357  4215.552246  1556.197510"
      ]
     },
     "execution_count": 86,
     "metadata": {},
     "output_type": "execute_result"
    }
   ],
   "source": [
    "dfcomp = dfcomp.dropna() #menghapus null \n",
    "dfcomp.head()\n"
   ]
  },
  {
   "cell_type": "code",
   "execution_count": 87,
   "metadata": {},
   "outputs": [
    {
     "data": {
      "text/html": [
       "<div>\n",
       "<style scoped>\n",
       "    .dataframe tbody tr th:only-of-type {\n",
       "        vertical-align: middle;\n",
       "    }\n",
       "\n",
       "    .dataframe tbody tr th {\n",
       "        vertical-align: top;\n",
       "    }\n",
       "\n",
       "    .dataframe thead th {\n",
       "        text-align: right;\n",
       "    }\n",
       "</style>\n",
       "<table border=\"1\" class=\"dataframe\">\n",
       "  <thead>\n",
       "    <tr style=\"text-align: right;\">\n",
       "      <th>Symbols</th>\n",
       "      <th>AALI.JK</th>\n",
       "      <th>BBCA.JK</th>\n",
       "      <th>AUTO.JK</th>\n",
       "      <th>BBRI.JK</th>\n",
       "      <th>KLBF.JK</th>\n",
       "    </tr>\n",
       "    <tr>\n",
       "      <th>Symbols</th>\n",
       "      <th></th>\n",
       "      <th></th>\n",
       "      <th></th>\n",
       "      <th></th>\n",
       "      <th></th>\n",
       "    </tr>\n",
       "  </thead>\n",
       "  <tbody>\n",
       "    <tr>\n",
       "      <td>AALI.JK</td>\n",
       "      <td>1.000000</td>\n",
       "      <td>0.494965</td>\n",
       "      <td>0.542460</td>\n",
       "      <td>0.494440</td>\n",
       "      <td>0.330469</td>\n",
       "    </tr>\n",
       "    <tr>\n",
       "      <td>BBCA.JK</td>\n",
       "      <td>0.494965</td>\n",
       "      <td>1.000000</td>\n",
       "      <td>0.512276</td>\n",
       "      <td>0.662220</td>\n",
       "      <td>0.404185</td>\n",
       "    </tr>\n",
       "    <tr>\n",
       "      <td>AUTO.JK</td>\n",
       "      <td>0.542460</td>\n",
       "      <td>0.512276</td>\n",
       "      <td>1.000000</td>\n",
       "      <td>0.562777</td>\n",
       "      <td>0.364071</td>\n",
       "    </tr>\n",
       "    <tr>\n",
       "      <td>BBRI.JK</td>\n",
       "      <td>0.494440</td>\n",
       "      <td>0.662220</td>\n",
       "      <td>0.562777</td>\n",
       "      <td>1.000000</td>\n",
       "      <td>0.364830</td>\n",
       "    </tr>\n",
       "    <tr>\n",
       "      <td>KLBF.JK</td>\n",
       "      <td>0.330469</td>\n",
       "      <td>0.404185</td>\n",
       "      <td>0.364071</td>\n",
       "      <td>0.364830</td>\n",
       "      <td>1.000000</td>\n",
       "    </tr>\n",
       "  </tbody>\n",
       "</table>\n",
       "</div>"
      ],
      "text/plain": [
       "Symbols   AALI.JK   BBCA.JK   AUTO.JK   BBRI.JK   KLBF.JK\n",
       "Symbols                                                  \n",
       "AALI.JK  1.000000  0.494965  0.542460  0.494440  0.330469\n",
       "BBCA.JK  0.494965  1.000000  0.512276  0.662220  0.404185\n",
       "AUTO.JK  0.542460  0.512276  1.000000  0.562777  0.364071\n",
       "BBRI.JK  0.494440  0.662220  0.562777  1.000000  0.364830\n",
       "KLBF.JK  0.330469  0.404185  0.364071  0.364830  1.000000"
      ]
     },
     "execution_count": 87,
     "metadata": {},
     "output_type": "execute_result"
    }
   ],
   "source": [
    "retscomp = dfcomp.pct_change()\n",
    "corr = retscomp.corr()\n",
    "corr"
   ]
  },
  {
   "cell_type": "code",
   "execution_count": 88,
   "metadata": {},
   "outputs": [
    {
     "data": {
      "text/plain": [
       "([<matplotlib.axis.YTick at 0xb92c4c8>,\n",
       "  <matplotlib.axis.YTick at 0xae0bec8>,\n",
       "  <matplotlib.axis.YTick at 0xb901508>,\n",
       "  <matplotlib.axis.YTick at 0xac3e508>,\n",
       "  <matplotlib.axis.YTick at 0xac3e308>],\n",
       " <a list of 5 Text yticklabel objects>)"
      ]
     },
     "execution_count": 88,
     "metadata": {},
     "output_type": "execute_result"
    },
    {
     "data": {
      "image/png": "[encoded data removed]",
      "text/plain": [
       "<Figure size 432x288 with 2 Axes>"
      ]
     },
     "metadata": {
      "needs_background": "light"
     },
     "output_type": "display_data"
    }
   ],
   "source": [
    "plt.imshow(corr, cmap='hot', interpolation='none')\n",
    "plt.colorbar()\n",
    "plt.xticks(range(len(corr)),corr.columns)\n",
    "plt.yticks(range(len(corr)),corr.columns)"
   ]
  },
  {
   "cell_type": "code",
   "execution_count": null,
   "metadata": {},
   "outputs": [],
   "source": []
  },
  {
   "cell_type": "code",
   "execution_count": null,
   "metadata": {},
   "outputs": [],
   "source": []
  }
 ],
 "metadata": {
  "kernelspec": {
   "display_name": "Python 3",
   "language": "python",
   "name": "python3"
  },
  "language_info": {
   "codemirror_mode": {
    "name": "ipython",
    "version": 3
   },
   "file_extension": ".py",
   "mimetype": "text/x-python",
   "name": "python",
   "nbconvert_exporter": "python",
   "pygments_lexer": "ipython3",
   "version": "3.7.4"
  }
 },
 "nbformat": 4,
 "nbformat_minor": 2
}
